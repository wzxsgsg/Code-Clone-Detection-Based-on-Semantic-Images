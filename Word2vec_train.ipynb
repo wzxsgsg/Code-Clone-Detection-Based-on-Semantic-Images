{
 "cells": [
  {
   "cell_type": "code",
   "execution_count": 1,
   "metadata": {},
   "outputs": [
    {
     "name": "stdout",
     "output_type": "stream",
     "text": [
      "478\n"
     ]
    },
    {
     "data": {
      "application/vnd.jupyter.widget-view+json": {
       "model_id": "1c04c47ff99b488bbf5f4d454bddb5af",
       "version_major": 2,
       "version_minor": 0
      },
      "text/plain": [
       "Processing:   0%|          | 0/478 [00:00<?, ?it/s]"
      ]
     },
     "metadata": {},
     "output_type": "display_data"
    },
    {
     "name": "stdout",
     "output_type": "stream",
     "text": [
      "88\n"
     ]
    },
    {
     "data": {
      "application/vnd.jupyter.widget-view+json": {
       "model_id": "6173112c68fd4c6487ac3f9b5ccb3996",
       "version_major": 2,
       "version_minor": 0
      },
      "text/plain": [
       "Processing:   0%|          | 0/88 [00:00<?, ?it/s]"
      ]
     },
     "metadata": {},
     "output_type": "display_data"
    },
    {
     "name": "stdout",
     "output_type": "stream",
     "text": [
      "242\n"
     ]
    },
    {
     "data": {
      "application/vnd.jupyter.widget-view+json": {
       "model_id": "22277b474aba459c98c8bd8025efdf04",
       "version_major": 2,
       "version_minor": 0
      },
      "text/plain": [
       "Processing:   0%|          | 0/242 [00:00<?, ?it/s]"
      ]
     },
     "metadata": {},
     "output_type": "display_data"
    },
    {
     "name": "stdout",
     "output_type": "stream",
     "text": [
      "38\n"
     ]
    },
    {
     "data": {
      "application/vnd.jupyter.widget-view+json": {
       "model_id": "a6f2f3f1047a4739b0232ee6fdad6264",
       "version_major": 2,
       "version_minor": 0
      },
      "text/plain": [
       "Processing:   0%|          | 0/38 [00:00<?, ?it/s]"
      ]
     },
     "metadata": {},
     "output_type": "display_data"
    },
    {
     "name": "stdout",
     "output_type": "stream",
     "text": [
      "2\n"
     ]
    },
    {
     "data": {
      "application/vnd.jupyter.widget-view+json": {
       "model_id": "33a70a4be8534551878bc427a57a24af",
       "version_major": 2,
       "version_minor": 0
      },
      "text/plain": [
       "Processing:   0%|          | 0/2 [00:00<?, ?it/s]"
      ]
     },
     "metadata": {},
     "output_type": "display_data"
    },
    {
     "name": "stdout",
     "output_type": "stream",
     "text": [
      "435\n"
     ]
    },
    {
     "data": {
      "application/vnd.jupyter.widget-view+json": {
       "model_id": "d407098b904e4b258c0bda5ae53b47e1",
       "version_major": 2,
       "version_minor": 0
      },
      "text/plain": [
       "Processing:   0%|          | 0/435 [00:00<?, ?it/s]"
      ]
     },
     "metadata": {},
     "output_type": "display_data"
    },
    {
     "name": "stdout",
     "output_type": "stream",
     "text": [
      "27\n"
     ]
    },
    {
     "data": {
      "application/vnd.jupyter.widget-view+json": {
       "model_id": "29fc8dfcf69543afbc8404897095e3c4",
       "version_major": 2,
       "version_minor": 0
      },
      "text/plain": [
       "Processing:   0%|          | 0/27 [00:00<?, ?it/s]"
      ]
     },
     "metadata": {},
     "output_type": "display_data"
    },
    {
     "name": "stdout",
     "output_type": "stream",
     "text": [
      "245\n"
     ]
    },
    {
     "data": {
      "application/vnd.jupyter.widget-view+json": {
       "model_id": "00bc5a22f16548298aef88be818c8d4a",
       "version_major": 2,
       "version_minor": 0
      },
      "text/plain": [
       "Processing:   0%|          | 0/245 [00:00<?, ?it/s]"
      ]
     },
     "metadata": {},
     "output_type": "display_data"
    },
    {
     "name": "stdout",
     "output_type": "stream",
     "text": [
      "68\n"
     ]
    },
    {
     "data": {
      "application/vnd.jupyter.widget-view+json": {
       "model_id": "16a8b63e5b0c4925ab18bbd5958c2a9b",
       "version_major": 2,
       "version_minor": 0
      },
      "text/plain": [
       "Processing:   0%|          | 0/68 [00:00<?, ?it/s]"
      ]
     },
     "metadata": {},
     "output_type": "display_data"
    },
    {
     "name": "stdout",
     "output_type": "stream",
     "text": [
      "18\n"
     ]
    },
    {
     "data": {
      "application/vnd.jupyter.widget-view+json": {
       "model_id": "f0cbba5042b444639f87710fe30bfed2",
       "version_major": 2,
       "version_minor": 0
      },
      "text/plain": [
       "Processing:   0%|          | 0/18 [00:00<?, ?it/s]"
      ]
     },
     "metadata": {},
     "output_type": "display_data"
    },
    {
     "name": "stdout",
     "output_type": "stream",
     "text": [
      "20\n"
     ]
    },
    {
     "data": {
      "application/vnd.jupyter.widget-view+json": {
       "model_id": "74db07efb9084ec09aa1ce971313f70f",
       "version_major": 2,
       "version_minor": 0
      },
      "text/plain": [
       "Processing:   0%|          | 0/20 [00:00<?, ?it/s]"
      ]
     },
     "metadata": {},
     "output_type": "display_data"
    },
    {
     "name": "stdout",
     "output_type": "stream",
     "text": [
      "4\n"
     ]
    },
    {
     "data": {
      "application/vnd.jupyter.widget-view+json": {
       "model_id": "f16c0c54cf0647ee982c35a8b64e3c1e",
       "version_major": 2,
       "version_minor": 0
      },
      "text/plain": [
       "Processing:   0%|          | 0/4 [00:00<?, ?it/s]"
      ]
     },
     "metadata": {},
     "output_type": "display_data"
    }
   ],
   "source": [
    "import json\n",
    "import torch\n",
    "from torch import Tensor\n",
    "from tqdm.notebook import tqdm\n",
    "import os\n",
    "import re\n",
    "import pickle\n",
    "import numpy as np\n",
    "from gensim.models import Word2Vec\n",
    "import random\n",
    "import networkx as nx\n",
    "\n",
    "\n",
    "def compute_Embedding(path, sequence_list):\n",
    "    with open(path, 'rb') as file_1:\n",
    "        node_dict = pickle.load(file_1)\n",
    "\n",
    "    for k, v in node_dict.items():\n",
    "        sequence = v[1]\n",
    "        sequence_list.append(sequence)\n",
    "    \n",
    "\n",
    "def main():\n",
    "    sequence_list = []\n",
    "    for index in range(12):\n",
    "        input_path = \"processed_data/GCJ/GCJ_json/googlejam4_src/\" + str(index+1) + '/'\n",
    "        files = os.listdir(input_path)\n",
    "\n",
    "        print(len(files))\n",
    "           \n",
    "        for index, file in tqdm(enumerate(files), total=len(files), desc=\"Processing\"):\n",
    "            compute_Embedding(input_path + file, sequence_list)\n",
    "\n",
    "    model = Word2Vec(sequence_list, vector_size=100, window=5, min_count=1, workers=4)\n",
    "    model.train(sequence_list, total_examples=1, epochs=20)\n",
    "\n",
    "        # 保存模型\n",
    "    model.save(\"models/word2vec_model_gcj.bin\")\n",
    "\n",
    "\n",
    "main()"
   ]
  },
  {
   "cell_type": "code",
   "execution_count": 2,
   "metadata": {},
   "outputs": [
    {
     "name": "stdout",
     "output_type": "stream",
     "text": [
      "9133\n"
     ]
    },
    {
     "data": {
      "application/vnd.jupyter.widget-view+json": {
       "model_id": "3d928d57e6f3432db7ca4e3ae2e418ee",
       "version_major": 2,
       "version_minor": 0
      },
      "text/plain": [
       "Processing:   0%|          | 0/9133 [00:00<?, ?it/s]"
      ]
     },
     "metadata": {},
     "output_type": "display_data"
    }
   ],
   "source": [
    "import json\n",
    "import torch\n",
    "from torch import Tensor\n",
    "from tqdm.notebook import tqdm\n",
    "import os\n",
    "import re\n",
    "import pickle\n",
    "import numpy as np\n",
    "from gensim.models import Word2Vec\n",
    "import random\n",
    "import networkx as nx\n",
    "\n",
    "\n",
    "def compute_Embedding(path, sequence_list):\n",
    "    with open(path, 'rb') as file_1:\n",
    "        node_dict = pickle.load(file_1)\n",
    "\n",
    "    for k, v in node_dict.items():\n",
    "        sequence = v[1]\n",
    "        sequence_list.append(sequence)\n",
    "\n",
    "\n",
    "def main():\n",
    "    input_path = \"processed_data/node_pkl_subgraph/\"\n",
    "\n",
    "    files = os.listdir(input_path)\n",
    "    \n",
    "    print(len(files))\n",
    "    sequence_list = []   \n",
    "    for index, file in tqdm(enumerate(files), total=len(files), desc=\"Processing\"):\n",
    "        compute_Embedding(input_path + file, sequence_list)\n",
    "    \n",
    "    model = Word2Vec(sequence_list, vector_size=1, window=5, min_count=1, workers=4)\n",
    "    model.train(sequence_list, total_examples=1, epochs=20)\n",
    "\n",
    "    # 保存模型\n",
    "    model.save(\"models/word2vec_model_bcb.bin\")\n",
    "\n",
    "main()"
   ]
  },
  {
   "cell_type": "code",
   "execution_count": null,
   "metadata": {},
   "outputs": [],
   "source": []
  }
 ],
 "metadata": {
  "kernelspec": {
   "display_name": "Python 3",
   "language": "python",
   "name": "python3"
  },
  "language_info": {
   "codemirror_mode": {
    "name": "ipython",
    "version": 3
   },
   "file_extension": ".py",
   "mimetype": "text/x-python",
   "name": "python",
   "nbconvert_exporter": "python",
   "pygments_lexer": "ipython3",
   "version": "3.6.8"
  }
 },
 "nbformat": 4,
 "nbformat_minor": 4
}
